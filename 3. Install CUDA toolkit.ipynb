{
 "cells": [
  {
   "cell_type": "markdown",
   "metadata": {},
   "source": [
    "The CUDA toolkit allows Python packages to use the GPU for accelerated Deep learning.  \n",
    "\n",
    "I will be using the CUDA 9.0 toolkit (CUDA 9.2 being the latest as of this installation).  \n",
    "Download it from here: https://developer.nvidia.com/cuda-90-download-archive  \n",
    "\n",
    "After downloading the run file, make it executable and run it.Accept the license and when prompted to continue with unsupported configuration, procced with a YES.  \n",
    "NOTE: When prompted to install the Nvidia driver, you can see that it is usually a lower version to what we have installed, so proceed with a NO.\n",
    "It is okay now to leave the rest of the prompts to default."
   ]
  },
  {
   "cell_type": "code",
   "execution_count": null,
   "metadata": {},
   "outputs": [],
   "source": [
    "# Give executable permission to the run file\n",
    "chmod -x cuda-filename.run\n",
    "\n",
    "sudo ./cuda-filename.run"
   ]
  },
  {
   "cell_type": "markdown",
   "metadata": {},
   "source": [
    "We need to perform the post installation operations of CUDA toolkit. We will do this after configuring cuDNN.  \n",
    "\n",
    "cuDNN provides libraries for accelerating frequent tasks of deep learning and is leveraged by many ML frameworks. https://developer.nvidia.com/cudnn  \n",
    "Download cuDNN from this link: https://developer.nvidia.com/rdp/cudnn-download and match it to the CUDA toolkit version.  \n",
    "We will be downloading cuDNN v7.1.4 (May 16, 2018), for CUDA 9.0.  \n",
    "\n",
    "After downloading do the following steps:"
   ]
  },
  {
   "cell_type": "code",
   "execution_count": null,
   "metadata": {},
   "outputs": [],
   "source": [
    "# Unpack the archive\n",
    "tar -zxvf cudnn-9.0-filename.tgz64/\n",
    "\n",
    "# Move the unpacked contents to your CUDA directory\n",
    "sudo cp -P cuda/lib64/libcudnn* /usr/local/cuda-9.0/lib64/\n",
    "sudo cp  cuda/include/cudnn.h /usr/local/cuda-9.0/include/\n",
    "\n",
    "# Give read access to all users\n",
    "sudo chmod a+r /usr/local/cuda-9.0/include/cudnn.h /usr/local/cuda/lib64/libcudnn*"
   ]
  },
  {
   "cell_type": "markdown",
   "metadata": {},
   "source": [
    "CUDA post install actions:  \n",
    "Add the cuda path to the .bashrc to let other libraries find cuda  \n",
    "Restart the terminal after doing this."
   ]
  },
  {
   "cell_type": "code",
   "execution_count": null,
   "metadata": {},
   "outputs": [],
   "source": [
    "# Open bashrc\n",
    "sudo gedit ~/.bashrc\n",
    "\n",
    "# Add the following lines\n",
    "export PATH=/usr/local/cuda-9.0/bin${PATH:+:${PATH}}\n",
    "export LD_LIBRARY_PATH=/usr/local/cuda/lib64:${LD_LIBRARY_PATH:+:${LD_LIBRARY_PATH}}"
   ]
  },
  {
   "cell_type": "code",
   "execution_count": null,
   "metadata": {},
   "outputs": [],
   "source": [
    "# Check the installation by running below command\n",
    "nvcc -V\n",
    "\n",
    "nvcc: NVIDIA (R) Cuda compiler driver\n",
    "Copyright (c) 2005-2017 NVIDIA Corporation\n",
    "Built on Fri_Sep__1_21:08:03_CDT_2017\n",
    "Cuda compilation tools, release 9.0, V9.0.176"
   ]
  },
  {
   "cell_type": "markdown",
   "metadata": {},
   "source": [
    "Huge thanks to this medium for the instructions: https://medium.com/@taylordenouden/installing-tensorflow-gpu-on-ubuntu-18-04-89a142325138"
   ]
  },
  {
   "cell_type": "markdown",
   "metadata": {},
   "source": [
    "You can further test the cuda installation by running the code samples provided by Nvidia. Follow these steps:"
   ]
  },
  {
   "cell_type": "code",
   "execution_count": null,
   "metadata": {},
   "outputs": [],
   "source": [
    "# Firstly we will setup some extra libraries required for these samples \n",
    "# https://docs.nvidia.com/cuda/cuda-installation-guide-linux/index.html#install-libraries\n",
    "# https://devtalk.nvidia.com/default/topic/993862/cuda-8-0-missing-required-libraries-on-ubuntu-16-04/\n",
    "# https://devtalk.nvidia.com/default/topic/1019260/cuda-setup-and-installation/devicequery-error-on-ubuntu-16-04-cuda-8-installation-gtx-1060-/\n",
    "sudo apt-get install g++ freeglut3-dev build-essential libx11-dev libxmu-dev libxi-dev libglu1-mesa libglu1-mesa-dev\n",
    "sudo apt-get install libopenmpi-dev\n",
    "\n",
    "# Next we will compile the samples\n",
    "cd /usr/local/cuda/samples\n",
    "sudo make -k\n",
    "\n",
    "# This will take a while. Don't worry about the warnings as we wont be facing any issues with our initial setup because of it\n",
    "\n",
    "# Lets fire up one of the code sample to get detailed info of our graphic card\n",
    "cd /usr/local/cuda/samples/bin/x86_64/linux/release\n",
    "./deviceQuery\n",
    "\n",
    "#Output\n",
    "./deviceQuery Starting...\n",
    "\n",
    " CUDA Device Query (Runtime API) version (CUDART static linking)\n",
    "\n",
    "Detected 1 CUDA Capable device(s)\n",
    "\n",
    "Device 0: \"GeForce GTX 860M\"\n",
    "  CUDA Driver Version / Runtime Version          9.1 / 9.0\n",
    "  CUDA Capability Major/Minor version number:    5.0\n",
    "  Total amount of global memory:                 4046 MBytes (4242604032 bytes)\n",
    "  ( 5) Multiprocessors, (128) CUDA Cores/MP:     640 CUDA Cores\n",
    "  GPU Max Clock rate:                            1020 MHz (1.02 GHz)\n",
    "  Memory Clock rate:                             2505 Mhz\n",
    "  Memory Bus Width:                              128-bit\n",
    "  L2 Cache Size:                                 2097152 bytes\n",
    "  Maximum Texture Dimension Size (x,y,z)         1D=(65536), 2D=(65536, 65536), 3D=(4096, 4096, 4096)\n",
    "  Maximum Layered 1D Texture Size, (num) layers  1D=(16384), 2048 layers\n",
    "  Maximum Layered 2D Texture Size, (num) layers  2D=(16384, 16384), 2048 layers\n",
    "  Total amount of constant memory:               65536 bytes\n",
    "  Total amount of shared memory per block:       49152 bytes\n",
    "  Total number of registers available per block: 65536\n",
    "  Warp size:                                     32\n",
    "  Maximum number of threads per multiprocessor:  2048\n",
    "  Maximum number of threads per block:           1024\n",
    "  Max dimension size of a thread block (x,y,z): (1024, 1024, 64)\n",
    "  Max dimension size of a grid size    (x,y,z): (2147483647, 65535, 65535)\n",
    "  Maximum memory pitch:                          2147483647 bytes\n",
    "  Texture alignment:                             512 bytes\n",
    "  Concurrent copy and kernel execution:          Yes with 1 copy engine(s)\n",
    "  Run time limit on kernels:                     No\n",
    "  Integrated GPU sharing Host Memory:            No\n",
    "  Support host page-locked memory mapping:       Yes\n",
    "  Alignment requirement for Surfaces:            Yes\n",
    "  Device has ECC support:                        Disabled\n",
    "  Device supports Unified Addressing (UVA):      Yes\n",
    "  Supports Cooperative Kernel Launch:            No\n",
    "  Supports MultiDevice Co-op Kernel Launch:      No\n",
    "  Device PCI Domain ID / Bus ID / location ID:   0 / 1 / 0\n",
    "  Compute Mode:\n",
    "     < Default (multiple host threads can use ::cudaSetDevice() with device simultaneously) >\n",
    "\n",
    "deviceQuery, CUDA Driver = CUDART, CUDA Driver Version = 9.1, CUDA Runtime Version = 9.0, NumDevs = 1\n",
    "Result = PASS"
   ]
  },
  {
   "cell_type": "markdown",
   "metadata": {},
   "source": [
    "And we are done here! "
   ]
  }
 ],
 "metadata": {
  "kernelspec": {
   "display_name": "Python 3",
   "language": "python",
   "name": "python3"
  },
  "language_info": {
   "codemirror_mode": {
    "name": "ipython",
    "version": 3
   },
   "file_extension": ".py",
   "mimetype": "text/x-python",
   "name": "python",
   "nbconvert_exporter": "python",
   "pygments_lexer": "ipython3",
   "version": "3.6.5"
  }
 },
 "nbformat": 4,
 "nbformat_minor": 2
}
