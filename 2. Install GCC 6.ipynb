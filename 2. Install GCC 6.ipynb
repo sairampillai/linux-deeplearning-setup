{
 "cells": [
  {
   "cell_type": "markdown",
   "metadata": {},
   "source": [
    "Installing GCC-6:  \n",
    "\n",
    "The CUDA 9.0 toolkit does not support gcc version higher than 6 and Ubuntu 18.04 comes installed with GCC-7.3.  \n",
    "We will install gcc-6 on our machine without uninstalling gcc-7.3 and set up update-alternatives to choose between what to use.  \n",
    "So open a terminal and follow along!  "
   ]
  },
  {
   "cell_type": "code",
   "execution_count": null,
   "metadata": {},
   "outputs": [],
   "source": [
    "# Remove any existing update alternatives\n",
    "sudo update-alternatives --remove-all gcc \n",
    "sudo update-alternatives --remove-all g++\n",
    "\n",
    "# Install gcc-6 and g++-6\n",
    "sudo apt-get install gcc-6 g++-6\n",
    "\n",
    "# After the above command you will have installed both gcc7 and gcc6 on you machine.\n",
    "# We want to manually choose the gcc version as per need. Run the following lines in the terminal:\n",
    "\n",
    "sudo update-alternatives --install /usr/bin/gcc gcc /usr/bin/gcc-6 10\n",
    "sudo update-alternatives --install /usr/bin/gcc gcc /usr/bin/gcc-7 20\n",
    "\n",
    "sudo update-alternatives --install /usr/bin/g++ g++ /usr/bin/g++-6 10\n",
    "sudo update-alternatives --install /usr/bin/g++ g++ /usr/bin/g++-7 20\n",
    "\n",
    "sudo update-alternatives --install /usr/bin/cc cc /usr/bin/gcc 30\n",
    "sudo update-alternatives --set cc /usr/bin/gcc\n",
    "\n",
    "sudo update-alternatives --install /usr/bin/c++ c++ /usr/bin/g++ 30\n",
    "sudo update-alternatives --set c++ /usr/bin/g++\n",
    "\n",
    "# After this you should be able to choose by running the below line\n",
    "sudo update-alternatives --config gcc\n",
    "\n",
    "# Output of the above command\n",
    "\n",
    "There are 2 choices for the alternative gcc (providing /usr/bin/gcc).\n",
    "\n",
    "  Selection    Path            Priority   Status\n",
    "------------------------------------------------------------\n",
    "  0            /usr/bin/gcc-7   20        auto mode\n",
    "* 1            /usr/bin/gcc-6   10        manual mode\n",
    "  2            /usr/bin/gcc-7   20        manual mode\n",
    "\n",
    "Press <enter> to keep the current choice[*], or type selection number:"
   ]
  },
  {
   "cell_type": "markdown",
   "metadata": {},
   "source": [
    "Thanks to this askubuntu post for excellent answer: https://askubuntu.com/questions/26498/how-to-choose-the-default-gcc-and-g-version"
   ]
  }
 ],
 "metadata": {
  "kernelspec": {
   "display_name": "Python 3",
   "language": "python",
   "name": "python3"
  },
  "language_info": {
   "codemirror_mode": {
    "name": "ipython",
    "version": 3
   },
   "file_extension": ".py",
   "mimetype": "text/x-python",
   "name": "python",
   "nbconvert_exporter": "python",
   "pygments_lexer": "ipython3",
   "version": "3.6.5"
  }
 },
 "nbformat": 4,
 "nbformat_minor": 2
}
