{
 "cells": [
  {
   "cell_type": "markdown",
   "metadata": {},
   "source": [
    "PyTorch is a popular deep learning library with cuda support and dynamic computation graph. https://pytorch.org/  \n",
    "\n",
    "We will use the Anaconda distribution and leave the existing python interpreter in our OS alone.  \n",
    "The Anaconda distro comes pre packaged with many Data Science and machine learning libraries and support many more.  \n",
    "We will download the install Anaconda and use a virtual enviromnent to setup our PyTorch libraries.  \n",
    "https://repo.anaconda.com/archive/Anaconda3-5.2.0-Linux-x86_64.sh  \n"
   ]
  },
  {
   "cell_type": "code",
   "execution_count": null,
   "metadata": {},
   "outputs": [],
   "source": [
    "# After download, make the file executable and run\n",
    "chmod -x Anaconda3-5.2.0-Linux-x86_64.sh\n",
    "sudo ./Anaconda3-5.2.0-Linux-x86_64.sh\n",
    "\n",
    "# Check installation\n",
    "conda info"
   ]
  },
  {
   "cell_type": "code",
   "execution_count": null,
   "metadata": {},
   "outputs": [],
   "source": [
    "# Create a conda environment\n",
    "# A virtual environment allows us to have many isolated version of the python interpreter and allows us to install project level libraries instead of global installation\n",
    "conda create --name py-lab"
   ]
  },
  {
   "cell_type": "markdown",
   "metadata": {},
   "source": [
    "For more info refer to this nifty cheat sheet: https://conda.io/docs/_downloads/conda-cheatsheet.pdf"
   ]
  },
  {
   "cell_type": "code",
   "execution_count": null,
   "metadata": {},
   "outputs": [],
   "source": [
    "# Install pytorch in the newly created environment\n",
    "conda install -n py-lab pytorch torchvision cuda90 -c pytorch\n",
    "\n",
    "# This will take a while :)\n",
    "\n",
    "# Test pytorch installation\n",
    "# Activate env\n",
    "source activate py-lab\n",
    "\n",
    "python3\n",
    "\n",
    ">>> import torch\n",
    ">>> torch.cuda.is_available()\n",
    "True\n",
    ">>> torch.cuda.get_device_name(0)\n",
    "'GeForce GTX 860M'"
   ]
  },
  {
   "cell_type": "markdown",
   "metadata": {},
   "source": [
    "Congratulation on reaching this far. Now you may proceed to the PyTorch documentation and forums to learn more. Happy Deep Learning!"
   ]
  }
 ],
 "metadata": {
  "kernelspec": {
   "display_name": "Python 3",
   "language": "python",
   "name": "python3"
  },
  "language_info": {
   "codemirror_mode": {
    "name": "ipython",
    "version": 3
   },
   "file_extension": ".py",
   "mimetype": "text/x-python",
   "name": "python",
   "nbconvert_exporter": "python",
   "pygments_lexer": "ipython3",
   "version": "3.6.5"
  }
 },
 "nbformat": 4,
 "nbformat_minor": 2
}
