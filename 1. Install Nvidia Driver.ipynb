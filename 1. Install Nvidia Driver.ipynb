{
 "cells": [
  {
   "cell_type": "markdown",
   "metadata": {},
   "source": [
    "Run the command in the terminal to find out the model of the graphic card"
   ]
  },
  {
   "cell_type": "code",
   "execution_count": null,
   "metadata": {},
   "outputs": [],
   "source": [
    "lspci | grep VGA"
   ]
  },
  {
   "cell_type": "markdown",
   "metadata": {},
   "source": [
    "Download the latest Nvidia driver from the below link:"
   ]
  },
  {
   "cell_type": "code",
   "execution_count": null,
   "metadata": {},
   "outputs": [],
   "source": [
    "http://www.nvidia.in/Download/index.aspx"
   ]
  },
  {
   "cell_type": "markdown",
   "metadata": {},
   "source": [
    "If you are starting from a fresh Ubuntu installation things would be smoother but if you are fixing some previous installations of drivers, I would recommend to clear all the existing Nvidia driver installation.\n",
    "\n",
    "As mentioned here : https://docs.nvidia.com/cuda/cuda-installation-guide-linux/index.html#runfile-nouveau the Nvidia driver installation does not work as the Nouveau drivers are installed and enabled by default on Ubuntu 18.04. You need to disable nouveau to continue with Nvidia driver installation."
   ]
  },
  {
   "cell_type": "code",
   "execution_count": null,
   "metadata": {},
   "outputs": [],
   "source": [
    "# To remove any existing Nvidia driver\n",
    "sudo apt purge nvidia*\n",
    "\n",
    "# To check if Nouveau drivers are loaded\n",
    "lsmod | grep nouveau\n",
    "\n",
    "# NOTE: If the above command does not output anything, go to the next step. Else follow as done below\n",
    "\n",
    "# Black list nouveau drivers \n",
    "# Create file /etc/modprobe.d/blacklist-nouveau.conf\n",
    "sudo gedit /etc/modprobe.d/blacklist-nouveau.conf\n",
    "\n",
    "# Put the following lines in /etc/modprobe.d/blacklist-nouveau.conf file\n",
    "blacklist nouveau\n",
    "options nouveau modeset=0\n",
    "\n",
    "# Restart the system just to be sure\n",
    "# After restart check if nouveau drivers are loaded. If they are still loaded you need to regenerate the kernel initramfs. Open the terminal and do\n",
    "sudo update-initramfs -u\n",
    "\n",
    "# Restart required after this step"
   ]
  },
  {
   "cell_type": "markdown",
   "metadata": {},
   "source": [
    "After successfully disabling Nouveau driver its time to run the downloaded Nvidia driver"
   ]
  },
  {
   "cell_type": "code",
   "execution_count": null,
   "metadata": {},
   "outputs": [],
   "source": [
    "# Make the downloaded file executable\n",
    "chmod +x NVIDIA-driver-filename.sh\n",
    "\n",
    "# Execute the file and proceed through the installation screens. Everything should work fine so if there are any warning thrown, choose to continue installation\n",
    "sudo ./NVIDIA-driver-filename.sh\n",
    "\n",
    "# I would recommend a restart after this step"
   ]
  },
  {
   "cell_type": "code",
   "execution_count": null,
   "metadata": {},
   "outputs": [],
   "source": [
    "# Check the driver installation\n",
    "nvidia-smi\n",
    "\n",
    "+-----------------------------------------------------------------------------+\n",
    "| NVIDIA-SMI 390.67                 Driver Version: 390.67                    |\n",
    "|-------------------------------+----------------------+----------------------+\n",
    "| GPU  Name        Persistence-M| Bus-Id        Disp.A | Volatile Uncorr. ECC |\n",
    "| Fan  Temp  Perf  Pwr:Usage/Cap|         Memory-Usage | GPU-Util  Compute M. |\n",
    "|===============================+======================+======================|\n",
    "|   0  GeForce GTX 860M    Off  | 00000000:01:00.0 Off |                  N/A |\n",
    "| N/A   50C    P0    N/A /  N/A |      0MiB /  4046MiB |      0%      Default |\n",
    "+-------------------------------+----------------------+----------------------+\n",
    "                                                                               \n",
    "+-----------------------------------------------------------------------------+\n",
    "| Processes:                                                       GPU Memory |\n",
    "|  GPU       PID   Type   Process name                             Usage      |\n",
    "|=============================================================================|\n",
    "|  No running processes found                                                 |\n",
    "+-----------------------------------------------------------------------------+"
   ]
  },
  {
   "cell_type": "markdown",
   "metadata": {},
   "source": [
    "And done!"
   ]
  }
 ],
 "metadata": {
  "kernelspec": {
   "display_name": "Python 3",
   "language": "python",
   "name": "python3"
  },
  "language_info": {
   "codemirror_mode": {
    "name": "ipython",
    "version": 3
   },
   "file_extension": ".py",
   "mimetype": "text/x-python",
   "name": "python",
   "nbconvert_exporter": "python",
   "pygments_lexer": "ipython3",
   "version": "3.6.5"
  }
 },
 "nbformat": 4,
 "nbformat_minor": 2
}
