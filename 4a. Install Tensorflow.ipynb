{
 "cells": [
  {
   "cell_type": "markdown",
   "metadata": {},
   "source": [
    "If you have followed all the previous steps, installing tensorflow for gpu is a one liner.  \n",
    "\n",
    "Tensorflow by Google is a very powerful computational framework. https://www.tensorflow.org/ Free and open source"
   ]
  },
  {
   "cell_type": "code",
   "execution_count": null,
   "metadata": {},
   "outputs": [],
   "source": [
    "# We will create a new environment for tensorflow\n",
    "conda create --name tensorflow\n",
    "source activate tensorflow\n",
    "\n",
    "# After the environment in activated run the following command there\n",
    "(tensorflow)$ sudo pip3 install --ignore-installed --upgrade https://storage.googleapis.com/tensorflow/linux/gpu/tensorflow_gpu-1.8.0-cp36-cp36m-linux_x86_64.whl\n",
    "    \n",
    "# Test installation with following\n",
    "source activate tensorflow\n",
    "\n",
    "python\n",
    "\n",
    ">>> from tensorflow.python.client import device_lib\n",
    "/usr/bin/anaconda3/lib/python3.6/site-packages/h5py/__init__.py:36: FutureWarning: Conversion of the second argument of issubdtype from `float` to `np.floating` is deprecated. In future, it will be treated as `np.float64 == np.dtype(float).type`.\n",
    "  from ._conv import register_converters as _register_converters\n",
    ">>> device_lib.list_local_devices()\n",
    "[name: \"/device:CPU:0\"\n",
    "device_type: \"CPU\"\n",
    "memory_limit: 268435456\n",
    "locality {\n",
    "}\n",
    "incarnation: 9664803673752852516\n",
    ", name: \"/device:GPU:0\"\n",
    "device_type: \"GPU\"\n",
    "memory_limit: 3833397248\n",
    "locality {\n",
    "  bus_id: 1\n",
    "}\n",
    "incarnation: 11348509717150612692\n",
    "physical_device_desc: \"device: 0, name: GeForce GTX 860M, pci bus id: 0000:01:00.0, compute capability: 5.0\"\n",
    "]"
   ]
  },
  {
   "cell_type": "markdown",
   "metadata": {},
   "source": [
    "And that is it! "
   ]
  }
 ],
 "metadata": {
  "kernelspec": {
   "display_name": "Python 3",
   "language": "python",
   "name": "python3"
  },
  "language_info": {
   "codemirror_mode": {
    "name": "ipython",
    "version": 3
   },
   "file_extension": ".py",
   "mimetype": "text/x-python",
   "name": "python",
   "nbconvert_exporter": "python",
   "pygments_lexer": "ipython3",
   "version": "3.6.5"
  }
 },
 "nbformat": 4,
 "nbformat_minor": 2
}
